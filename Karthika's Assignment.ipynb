{
 "cells": [
  {
   "cell_type": "code",
   "execution_count": 5,
   "id": "23b3b70c",
   "metadata": {},
   "outputs": [
    {
     "name": "stdout",
     "output_type": "stream",
     "text": [
      "Enter the value of rector scale5\n",
      "Enter the height of Tide5\n",
      "Enter the speed of wind in Kmph50\n",
      "Is there volcanic eruption?yes\n",
      "It's Tsunami\n"
     ]
    }
   ],
   "source": [
    "Earthquake= int(input(\"Enter the value of rector scale\"))\n",
    "Tideheight= int(input(\"Enter the height of Tide\"))\n",
    "Windspeed= int(input(\"Enter the speed of wind in Kmph\"))\n",
    "VolcanicEruption= input(\"Is there volcanic eruption?\")\n",
    "count=0;\n",
    "if(Earthquake>=7):\n",
    "    count=count+1\n",
    "if(Tideheight>=5):\n",
    "    count= count+1\n",
    "if(Windspeed>=50):\n",
    "    count= count+1\n",
    "if(VolcanicEruption == \"yes\" or VolcanicEruption == \"Yes\"):\n",
    "    count= count+1;\n",
    "if(count ==3 or count ==4):\n",
    "    print(\"It's Tsunami\")\n",
    "else:\n",
    "    print(\"No Tsunami\")"
   ]
  },
  {
   "cell_type": "code",
   "execution_count": null,
   "id": "3d4656ed",
   "metadata": {},
   "outputs": [],
   "source": []
  },
  {
   "cell_type": "code",
   "execution_count": null,
   "id": "ab148eac",
   "metadata": {},
   "outputs": [],
   "source": []
  }
 ],
 "metadata": {
  "kernelspec": {
   "display_name": "Python 3 (ipykernel)",
   "language": "python",
   "name": "python3"
  },
  "language_info": {
   "codemirror_mode": {
    "name": "ipython",
    "version": 3
   },
   "file_extension": ".py",
   "mimetype": "text/x-python",
   "name": "python",
   "nbconvert_exporter": "python",
   "pygments_lexer": "ipython3",
   "version": "3.9.7"
  }
 },
 "nbformat": 4,
 "nbformat_minor": 5
}
